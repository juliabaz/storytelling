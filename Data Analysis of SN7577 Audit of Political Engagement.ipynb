{
 "cells": [
  {
   "cell_type": "markdown",
   "id": "0442c11b",
   "metadata": {},
   "source": [
    "# Data Analysis of SN7577: Audit of Political Engagement"
   ]
  },
  {
   "cell_type": "code",
   "execution_count": 376,
   "id": "c74a011a",
   "metadata": {
    "slideshow": {
     "slide_type": "skip"
    }
   },
   "outputs": [],
   "source": [
    "# Importing the libraries\n",
    "import pandas as pd\n",
    "import seaborn as sns\n",
    "import matplotlib.pyplot as plt"
   ]
  },
  {
   "cell_type": "code",
   "execution_count": 377,
   "id": "d964f4f0",
   "metadata": {
    "slideshow": {
     "slide_type": "skip"
    }
   },
   "outputs": [],
   "source": [
    "# Reading a csv file\n",
    "df_SN7577 = pd.read_csv(\"SN7577.tab\", sep='\\t')"
   ]
  },
  {
   "cell_type": "code",
   "execution_count": 378,
   "id": "87d457d5",
   "metadata": {
    "slideshow": {
     "slide_type": "skip"
    }
   },
   "outputs": [
    {
     "data": {
      "text/html": [
       "<div>\n",
       "<style scoped>\n",
       "    .dataframe tbody tr th:only-of-type {\n",
       "        vertical-align: middle;\n",
       "    }\n",
       "\n",
       "    .dataframe tbody tr th {\n",
       "        vertical-align: top;\n",
       "    }\n",
       "\n",
       "    .dataframe thead th {\n",
       "        text-align: right;\n",
       "    }\n",
       "</style>\n",
       "<table border=\"1\" class=\"dataframe\">\n",
       "  <thead>\n",
       "    <tr style=\"text-align: right;\">\n",
       "      <th></th>\n",
       "      <th>Q1</th>\n",
       "      <th>Q2</th>\n",
       "      <th>Q3</th>\n",
       "      <th>Q4</th>\n",
       "      <th>Q5ai</th>\n",
       "      <th>Q5aii</th>\n",
       "      <th>Q5aiii</th>\n",
       "      <th>Q5aiv</th>\n",
       "      <th>Q5av</th>\n",
       "      <th>Q5avi</th>\n",
       "      <th>...</th>\n",
       "      <th>numhhd</th>\n",
       "      <th>numkid</th>\n",
       "      <th>numkid2</th>\n",
       "      <th>numkid31</th>\n",
       "      <th>numkid32</th>\n",
       "      <th>numkid33</th>\n",
       "      <th>numkid34</th>\n",
       "      <th>numkid35</th>\n",
       "      <th>numkid36</th>\n",
       "      <th>wts</th>\n",
       "    </tr>\n",
       "  </thead>\n",
       "  <tbody>\n",
       "    <tr>\n",
       "      <th>0</th>\n",
       "      <td>1</td>\n",
       "      <td>-1</td>\n",
       "      <td>1</td>\n",
       "      <td>8</td>\n",
       "      <td>0</td>\n",
       "      <td>0</td>\n",
       "      <td>0</td>\n",
       "      <td>1</td>\n",
       "      <td>0</td>\n",
       "      <td>0</td>\n",
       "      <td>...</td>\n",
       "      <td>3</td>\n",
       "      <td>11</td>\n",
       "      <td>2</td>\n",
       "      <td>0</td>\n",
       "      <td>0</td>\n",
       "      <td>0</td>\n",
       "      <td>0</td>\n",
       "      <td>1</td>\n",
       "      <td>0</td>\n",
       "      <td>1.11</td>\n",
       "    </tr>\n",
       "    <tr>\n",
       "      <th>1</th>\n",
       "      <td>3</td>\n",
       "      <td>-1</td>\n",
       "      <td>1</td>\n",
       "      <td>4</td>\n",
       "      <td>0</td>\n",
       "      <td>0</td>\n",
       "      <td>0</td>\n",
       "      <td>0</td>\n",
       "      <td>0</td>\n",
       "      <td>0</td>\n",
       "      <td>...</td>\n",
       "      <td>3</td>\n",
       "      <td>11</td>\n",
       "      <td>2</td>\n",
       "      <td>0</td>\n",
       "      <td>0</td>\n",
       "      <td>0</td>\n",
       "      <td>0</td>\n",
       "      <td>1</td>\n",
       "      <td>0</td>\n",
       "      <td>2.57</td>\n",
       "    </tr>\n",
       "    <tr>\n",
       "      <th>2</th>\n",
       "      <td>10</td>\n",
       "      <td>3</td>\n",
       "      <td>2</td>\n",
       "      <td>6</td>\n",
       "      <td>0</td>\n",
       "      <td>0</td>\n",
       "      <td>0</td>\n",
       "      <td>0</td>\n",
       "      <td>0</td>\n",
       "      <td>0</td>\n",
       "      <td>...</td>\n",
       "      <td>2</td>\n",
       "      <td>11</td>\n",
       "      <td>2</td>\n",
       "      <td>0</td>\n",
       "      <td>0</td>\n",
       "      <td>0</td>\n",
       "      <td>0</td>\n",
       "      <td>1</td>\n",
       "      <td>0</td>\n",
       "      <td>2.04</td>\n",
       "    </tr>\n",
       "    <tr>\n",
       "      <th>3</th>\n",
       "      <td>9</td>\n",
       "      <td>-1</td>\n",
       "      <td>10</td>\n",
       "      <td>10</td>\n",
       "      <td>0</td>\n",
       "      <td>0</td>\n",
       "      <td>0</td>\n",
       "      <td>0</td>\n",
       "      <td>0</td>\n",
       "      <td>0</td>\n",
       "      <td>...</td>\n",
       "      <td>1</td>\n",
       "      <td>-1</td>\n",
       "      <td>2</td>\n",
       "      <td>0</td>\n",
       "      <td>0</td>\n",
       "      <td>0</td>\n",
       "      <td>0</td>\n",
       "      <td>1</td>\n",
       "      <td>0</td>\n",
       "      <td>1.08</td>\n",
       "    </tr>\n",
       "    <tr>\n",
       "      <th>4</th>\n",
       "      <td>10</td>\n",
       "      <td>2</td>\n",
       "      <td>6</td>\n",
       "      <td>1</td>\n",
       "      <td>0</td>\n",
       "      <td>0</td>\n",
       "      <td>0</td>\n",
       "      <td>1</td>\n",
       "      <td>0</td>\n",
       "      <td>0</td>\n",
       "      <td>...</td>\n",
       "      <td>1</td>\n",
       "      <td>-1</td>\n",
       "      <td>2</td>\n",
       "      <td>0</td>\n",
       "      <td>0</td>\n",
       "      <td>0</td>\n",
       "      <td>0</td>\n",
       "      <td>1</td>\n",
       "      <td>0</td>\n",
       "      <td>1.25</td>\n",
       "    </tr>\n",
       "    <tr>\n",
       "      <th>...</th>\n",
       "      <td>...</td>\n",
       "      <td>...</td>\n",
       "      <td>...</td>\n",
       "      <td>...</td>\n",
       "      <td>...</td>\n",
       "      <td>...</td>\n",
       "      <td>...</td>\n",
       "      <td>...</td>\n",
       "      <td>...</td>\n",
       "      <td>...</td>\n",
       "      <td>...</td>\n",
       "      <td>...</td>\n",
       "      <td>...</td>\n",
       "      <td>...</td>\n",
       "      <td>...</td>\n",
       "      <td>...</td>\n",
       "      <td>...</td>\n",
       "      <td>...</td>\n",
       "      <td>...</td>\n",
       "      <td>...</td>\n",
       "      <td>...</td>\n",
       "    </tr>\n",
       "    <tr>\n",
       "      <th>1281</th>\n",
       "      <td>2</td>\n",
       "      <td>-1</td>\n",
       "      <td>3</td>\n",
       "      <td>6</td>\n",
       "      <td>0</td>\n",
       "      <td>0</td>\n",
       "      <td>0</td>\n",
       "      <td>0</td>\n",
       "      <td>0</td>\n",
       "      <td>0</td>\n",
       "      <td>...</td>\n",
       "      <td>2</td>\n",
       "      <td>-1</td>\n",
       "      <td>2</td>\n",
       "      <td>0</td>\n",
       "      <td>0</td>\n",
       "      <td>0</td>\n",
       "      <td>0</td>\n",
       "      <td>1</td>\n",
       "      <td>0</td>\n",
       "      <td>0.85</td>\n",
       "    </tr>\n",
       "    <tr>\n",
       "      <th>1282</th>\n",
       "      <td>10</td>\n",
       "      <td>10</td>\n",
       "      <td>2</td>\n",
       "      <td>10</td>\n",
       "      <td>0</td>\n",
       "      <td>0</td>\n",
       "      <td>0</td>\n",
       "      <td>0</td>\n",
       "      <td>0</td>\n",
       "      <td>0</td>\n",
       "      <td>...</td>\n",
       "      <td>1</td>\n",
       "      <td>-1</td>\n",
       "      <td>2</td>\n",
       "      <td>0</td>\n",
       "      <td>0</td>\n",
       "      <td>0</td>\n",
       "      <td>0</td>\n",
       "      <td>1</td>\n",
       "      <td>0</td>\n",
       "      <td>2.31</td>\n",
       "    </tr>\n",
       "    <tr>\n",
       "      <th>1283</th>\n",
       "      <td>9</td>\n",
       "      <td>-1</td>\n",
       "      <td>8</td>\n",
       "      <td>9</td>\n",
       "      <td>0</td>\n",
       "      <td>0</td>\n",
       "      <td>0</td>\n",
       "      <td>0</td>\n",
       "      <td>0</td>\n",
       "      <td>0</td>\n",
       "      <td>...</td>\n",
       "      <td>4</td>\n",
       "      <td>2</td>\n",
       "      <td>1</td>\n",
       "      <td>1</td>\n",
       "      <td>0</td>\n",
       "      <td>0</td>\n",
       "      <td>0</td>\n",
       "      <td>0</td>\n",
       "      <td>0</td>\n",
       "      <td>2.85</td>\n",
       "    </tr>\n",
       "    <tr>\n",
       "      <th>1284</th>\n",
       "      <td>11</td>\n",
       "      <td>11</td>\n",
       "      <td>1</td>\n",
       "      <td>2</td>\n",
       "      <td>0</td>\n",
       "      <td>0</td>\n",
       "      <td>0</td>\n",
       "      <td>1</td>\n",
       "      <td>1</td>\n",
       "      <td>0</td>\n",
       "      <td>...</td>\n",
       "      <td>2</td>\n",
       "      <td>-1</td>\n",
       "      <td>2</td>\n",
       "      <td>0</td>\n",
       "      <td>0</td>\n",
       "      <td>0</td>\n",
       "      <td>0</td>\n",
       "      <td>1</td>\n",
       "      <td>0</td>\n",
       "      <td>3.46</td>\n",
       "    </tr>\n",
       "    <tr>\n",
       "      <th>1285</th>\n",
       "      <td>10</td>\n",
       "      <td>6</td>\n",
       "      <td>6</td>\n",
       "      <td>6</td>\n",
       "      <td>0</td>\n",
       "      <td>0</td>\n",
       "      <td>0</td>\n",
       "      <td>0</td>\n",
       "      <td>0</td>\n",
       "      <td>0</td>\n",
       "      <td>...</td>\n",
       "      <td>2</td>\n",
       "      <td>-1</td>\n",
       "      <td>2</td>\n",
       "      <td>0</td>\n",
       "      <td>0</td>\n",
       "      <td>0</td>\n",
       "      <td>0</td>\n",
       "      <td>1</td>\n",
       "      <td>0</td>\n",
       "      <td>1.94</td>\n",
       "    </tr>\n",
       "  </tbody>\n",
       "</table>\n",
       "<p>1286 rows × 202 columns</p>\n",
       "</div>"
      ],
      "text/plain": [
       "      Q1  Q2  Q3  Q4  Q5ai  Q5aii  Q5aiii  Q5aiv  Q5av  Q5avi  ...  numhhd  \\\n",
       "0      1  -1   1   8     0      0       0      1     0      0  ...       3   \n",
       "1      3  -1   1   4     0      0       0      0     0      0  ...       3   \n",
       "2     10   3   2   6     0      0       0      0     0      0  ...       2   \n",
       "3      9  -1  10  10     0      0       0      0     0      0  ...       1   \n",
       "4     10   2   6   1     0      0       0      1     0      0  ...       1   \n",
       "...   ..  ..  ..  ..   ...    ...     ...    ...   ...    ...  ...     ...   \n",
       "1281   2  -1   3   6     0      0       0      0     0      0  ...       2   \n",
       "1282  10  10   2  10     0      0       0      0     0      0  ...       1   \n",
       "1283   9  -1   8   9     0      0       0      0     0      0  ...       4   \n",
       "1284  11  11   1   2     0      0       0      1     1      0  ...       2   \n",
       "1285  10   6   6   6     0      0       0      0     0      0  ...       2   \n",
       "\n",
       "      numkid  numkid2  numkid31  numkid32  numkid33  numkid34  numkid35  \\\n",
       "0         11        2         0         0         0         0         1   \n",
       "1         11        2         0         0         0         0         1   \n",
       "2         11        2         0         0         0         0         1   \n",
       "3         -1        2         0         0         0         0         1   \n",
       "4         -1        2         0         0         0         0         1   \n",
       "...      ...      ...       ...       ...       ...       ...       ...   \n",
       "1281      -1        2         0         0         0         0         1   \n",
       "1282      -1        2         0         0         0         0         1   \n",
       "1283       2        1         1         0         0         0         0   \n",
       "1284      -1        2         0         0         0         0         1   \n",
       "1285      -1        2         0         0         0         0         1   \n",
       "\n",
       "      numkid36  wts  \n",
       "0            0 1.11  \n",
       "1            0 2.57  \n",
       "2            0 2.04  \n",
       "3            0 1.08  \n",
       "4            0 1.25  \n",
       "...        ...  ...  \n",
       "1281         0 0.85  \n",
       "1282         0 2.31  \n",
       "1283         0 2.85  \n",
       "1284         0 3.46  \n",
       "1285         0 1.94  \n",
       "\n",
       "[1286 rows x 202 columns]"
      ]
     },
     "execution_count": 378,
     "metadata": {},
     "output_type": "execute_result"
    }
   ],
   "source": [
    "# Getting information about a Dataframe\n",
    "df_SN7577"
   ]
  },
  {
   "cell_type": "markdown",
   "id": "636694c4",
   "metadata": {},
   "source": [
    "### Descriptive Statistics"
   ]
  },
  {
   "cell_type": "code",
   "execution_count": 373,
   "id": "f964878e",
   "metadata": {
    "slideshow": {
     "slide_type": "skip"
    }
   },
   "outputs": [],
   "source": [
    "# Creating a dataframe with relevant variables\n",
    "df2 = pd.DataFrame(df_SN7577, columns=['Q6', 'agegroups', 'Q7a', 'Q3', 'Q14', 'Q5axv', 'Q5bxv'])"
   ]
  },
  {
   "cell_type": "code",
   "execution_count": 374,
   "id": "8842ceec",
   "metadata": {
    "scrolled": true,
    "slideshow": {
     "slide_type": "skip"
    }
   },
   "outputs": [
    {
     "data": {
      "text/html": [
       "<div>\n",
       "<style scoped>\n",
       "    .dataframe tbody tr th:only-of-type {\n",
       "        vertical-align: middle;\n",
       "    }\n",
       "\n",
       "    .dataframe tbody tr th {\n",
       "        vertical-align: top;\n",
       "    }\n",
       "\n",
       "    .dataframe thead th {\n",
       "        text-align: right;\n",
       "    }\n",
       "</style>\n",
       "<table border=\"1\" class=\"dataframe\">\n",
       "  <thead>\n",
       "    <tr style=\"text-align: right;\">\n",
       "      <th></th>\n",
       "      <th>Q6</th>\n",
       "      <th>Q7a</th>\n",
       "      <th>Q3</th>\n",
       "      <th>Q14</th>\n",
       "      <th>Q5axv</th>\n",
       "      <th>Q5bxv</th>\n",
       "    </tr>\n",
       "    <tr>\n",
       "      <th>agegroups</th>\n",
       "      <th></th>\n",
       "      <th></th>\n",
       "      <th></th>\n",
       "      <th></th>\n",
       "      <th></th>\n",
       "      <th></th>\n",
       "    </tr>\n",
       "  </thead>\n",
       "  <tbody>\n",
       "    <tr>\n",
       "      <th>1</th>\n",
       "      <td>173</td>\n",
       "      <td>173</td>\n",
       "      <td>173</td>\n",
       "      <td>173</td>\n",
       "      <td>173</td>\n",
       "      <td>173</td>\n",
       "    </tr>\n",
       "    <tr>\n",
       "      <th>2</th>\n",
       "      <td>193</td>\n",
       "      <td>193</td>\n",
       "      <td>193</td>\n",
       "      <td>193</td>\n",
       "      <td>193</td>\n",
       "      <td>193</td>\n",
       "    </tr>\n",
       "    <tr>\n",
       "      <th>3</th>\n",
       "      <td>205</td>\n",
       "      <td>205</td>\n",
       "      <td>205</td>\n",
       "      <td>205</td>\n",
       "      <td>205</td>\n",
       "      <td>205</td>\n",
       "    </tr>\n",
       "    <tr>\n",
       "      <th>4</th>\n",
       "      <td>211</td>\n",
       "      <td>211</td>\n",
       "      <td>211</td>\n",
       "      <td>211</td>\n",
       "      <td>211</td>\n",
       "      <td>211</td>\n",
       "    </tr>\n",
       "    <tr>\n",
       "      <th>5</th>\n",
       "      <td>199</td>\n",
       "      <td>199</td>\n",
       "      <td>199</td>\n",
       "      <td>199</td>\n",
       "      <td>199</td>\n",
       "      <td>199</td>\n",
       "    </tr>\n",
       "    <tr>\n",
       "      <th>6</th>\n",
       "      <td>188</td>\n",
       "      <td>188</td>\n",
       "      <td>188</td>\n",
       "      <td>188</td>\n",
       "      <td>188</td>\n",
       "      <td>188</td>\n",
       "    </tr>\n",
       "    <tr>\n",
       "      <th>7</th>\n",
       "      <td>117</td>\n",
       "      <td>117</td>\n",
       "      <td>117</td>\n",
       "      <td>117</td>\n",
       "      <td>117</td>\n",
       "      <td>117</td>\n",
       "    </tr>\n",
       "  </tbody>\n",
       "</table>\n",
       "</div>"
      ],
      "text/plain": [
       "            Q6  Q7a   Q3  Q14  Q5axv  Q5bxv\n",
       "agegroups                                  \n",
       "1          173  173  173  173    173    173\n",
       "2          193  193  193  193    193    193\n",
       "3          205  205  205  205    205    205\n",
       "4          211  211  211  211    211    211\n",
       "5          199  199  199  199    199    199\n",
       "6          188  188  188  188    188    188\n",
       "7          117  117  117  117    117    117"
      ]
     },
     "execution_count": 374,
     "metadata": {},
     "output_type": "execute_result"
    }
   ],
   "source": [
    "# Counting total responses by age group\n",
    "df2.groupby(by=\"agegroups\").count()"
   ]
  },
  {
   "cell_type": "code",
   "execution_count": 264,
   "id": "e63cc394",
   "metadata": {
    "slideshow": {
     "slide_type": "skip"
    }
   },
   "outputs": [],
   "source": [
    "# Grouping \"very interested\" and \"fairly interested\" in politics responses by age group\n",
    "interest = df2[(df2.Q6 == 1)| (df2.Q6 == 2)].groupby(by=\"agegroups\").count()[\"Q6\"] "
   ]
  },
  {
   "cell_type": "code",
   "execution_count": 265,
   "id": "781ae411",
   "metadata": {
    "slideshow": {
     "slide_type": "skip"
    }
   },
   "outputs": [
    {
     "data": {
      "text/plain": [
       "agegroups\n",
       "1     62\n",
       "2     67\n",
       "3     81\n",
       "4    104\n",
       "5    121\n",
       "6    122\n",
       "7     69\n",
       "Name: Q6, dtype: int64"
      ]
     },
     "execution_count": 265,
     "metadata": {},
     "output_type": "execute_result"
    }
   ],
   "source": [
    "# Printing count by age group\n",
    "interest"
   ]
  },
  {
   "cell_type": "code",
   "execution_count": 266,
   "id": "cb4e94ad",
   "metadata": {},
   "outputs": [],
   "source": [
    "# Grouping \"a great deal\" and \"a fair amount\" of knowledge responses by age group\n",
    "knowledge = df2[(df2.Q7a == 1) | (df2.Q7a == 2)].groupby(by=\"agegroups\").count()[\"Q7a\"] "
   ]
  },
  {
   "cell_type": "code",
   "execution_count": 267,
   "id": "5d006a6a",
   "metadata": {},
   "outputs": [
    {
     "data": {
      "text/plain": [
       "agegroups\n",
       "1     64\n",
       "2     73\n",
       "3     93\n",
       "4    108\n",
       "5    112\n",
       "6    124\n",
       "7     73\n",
       "Name: Q7a, dtype: int64"
      ]
     },
     "execution_count": 267,
     "metadata": {},
     "output_type": "execute_result"
    }
   ],
   "source": [
    "# Printing count by age group\n",
    "knowledge"
   ]
  },
  {
   "cell_type": "code",
   "execution_count": 162,
   "id": "4716d11a",
   "metadata": {
    "slideshow": {
     "slide_type": "skip"
    }
   },
   "outputs": [],
   "source": [
    "# Creating data for Interest and Knowledge of politics table\n",
    "data = {'Age Group': ['18-24', '25-34', '35-44', '45-54', '55-64', '65-74', '75+'], 'Interested in Politics': [62, 67, 81, 104, 121, 122, 69], 'Knowledge of Politics': [64, 73, 93, 108, 112, 124, 73], 'Total': [173, 193, 205, 211, 199, 188, 117]}"
   ]
  },
  {
   "cell_type": "code",
   "execution_count": 163,
   "id": "4e01ed15",
   "metadata": {
    "slideshow": {
     "slide_type": "skip"
    }
   },
   "outputs": [],
   "source": [
    "# Creating dataframe for Interest and Knowledge of politics table\n",
    "df1 = pd.DataFrame(data)"
   ]
  },
  {
   "cell_type": "code",
   "execution_count": 164,
   "id": "98028d67",
   "metadata": {
    "slideshow": {
     "slide_type": "skip"
    }
   },
   "outputs": [],
   "source": [
    "# Adding percentage columns for Interest and Knowledge\n",
    "df1['% Interest'] = (df['Interested in Politics']/df['Total'])*100 \n",
    "df1['% Knowledge'] = (df['Knowledge of Politics']/df['Total'])*100 \n",
    "pd.options.display.float_format = '{:,.2f}'.format"
   ]
  },
  {
   "cell_type": "code",
   "execution_count": 165,
   "id": "deee349c",
   "metadata": {
    "slideshow": {
     "slide_type": "skip"
    }
   },
   "outputs": [
    {
     "data": {
      "text/html": [
       "<div>\n",
       "<style scoped>\n",
       "    .dataframe tbody tr th:only-of-type {\n",
       "        vertical-align: middle;\n",
       "    }\n",
       "\n",
       "    .dataframe tbody tr th {\n",
       "        vertical-align: top;\n",
       "    }\n",
       "\n",
       "    .dataframe thead th {\n",
       "        text-align: right;\n",
       "    }\n",
       "</style>\n",
       "<table border=\"1\" class=\"dataframe\">\n",
       "  <thead>\n",
       "    <tr style=\"text-align: right;\">\n",
       "      <th></th>\n",
       "      <th>Age Group</th>\n",
       "      <th>Interested in Politics</th>\n",
       "      <th>Knowledge of Politics</th>\n",
       "      <th>Total</th>\n",
       "      <th>% Interest</th>\n",
       "      <th>% Knowledge</th>\n",
       "    </tr>\n",
       "  </thead>\n",
       "  <tbody>\n",
       "    <tr>\n",
       "      <th>0</th>\n",
       "      <td>18-24</td>\n",
       "      <td>62</td>\n",
       "      <td>64</td>\n",
       "      <td>173</td>\n",
       "      <td>35.84</td>\n",
       "      <td>36.99</td>\n",
       "    </tr>\n",
       "    <tr>\n",
       "      <th>1</th>\n",
       "      <td>25-34</td>\n",
       "      <td>67</td>\n",
       "      <td>73</td>\n",
       "      <td>193</td>\n",
       "      <td>34.72</td>\n",
       "      <td>37.82</td>\n",
       "    </tr>\n",
       "    <tr>\n",
       "      <th>2</th>\n",
       "      <td>35-44</td>\n",
       "      <td>81</td>\n",
       "      <td>93</td>\n",
       "      <td>205</td>\n",
       "      <td>39.51</td>\n",
       "      <td>45.37</td>\n",
       "    </tr>\n",
       "    <tr>\n",
       "      <th>3</th>\n",
       "      <td>45-54</td>\n",
       "      <td>104</td>\n",
       "      <td>108</td>\n",
       "      <td>211</td>\n",
       "      <td>49.29</td>\n",
       "      <td>51.18</td>\n",
       "    </tr>\n",
       "    <tr>\n",
       "      <th>4</th>\n",
       "      <td>55-64</td>\n",
       "      <td>121</td>\n",
       "      <td>112</td>\n",
       "      <td>199</td>\n",
       "      <td>60.80</td>\n",
       "      <td>56.28</td>\n",
       "    </tr>\n",
       "    <tr>\n",
       "      <th>5</th>\n",
       "      <td>65-74</td>\n",
       "      <td>122</td>\n",
       "      <td>124</td>\n",
       "      <td>188</td>\n",
       "      <td>64.89</td>\n",
       "      <td>65.96</td>\n",
       "    </tr>\n",
       "    <tr>\n",
       "      <th>6</th>\n",
       "      <td>75+</td>\n",
       "      <td>69</td>\n",
       "      <td>73</td>\n",
       "      <td>117</td>\n",
       "      <td>58.97</td>\n",
       "      <td>62.39</td>\n",
       "    </tr>\n",
       "  </tbody>\n",
       "</table>\n",
       "</div>"
      ],
      "text/plain": [
       "  Age Group  Interested in Politics  Knowledge of Politics  Total  % Interest  \\\n",
       "0     18-24                      62                     64    173       35.84   \n",
       "1     25-34                      67                     73    193       34.72   \n",
       "2     35-44                      81                     93    205       39.51   \n",
       "3     45-54                     104                    108    211       49.29   \n",
       "4     55-64                     121                    112    199       60.80   \n",
       "5     65-74                     122                    124    188       64.89   \n",
       "6       75+                      69                     73    117       58.97   \n",
       "\n",
       "   % Knowledge  \n",
       "0        36.99  \n",
       "1        37.82  \n",
       "2        45.37  \n",
       "3        51.18  \n",
       "4        56.28  \n",
       "5        65.96  \n",
       "6        62.39  "
      ]
     },
     "execution_count": 165,
     "metadata": {},
     "output_type": "execute_result"
    }
   ],
   "source": [
    "# Printing dataframe for Interest and Knowledge\n",
    "df1"
   ]
  },
  {
   "cell_type": "code",
   "execution_count": 270,
   "id": "2944a80c",
   "metadata": {},
   "outputs": [
    {
     "data": {
      "text/plain": [
       "agegroups\n",
       "1    40\n",
       "2    38\n",
       "3    50\n",
       "4    63\n",
       "5    76\n",
       "6    77\n",
       "7    52\n",
       "Name: Q14, dtype: int64"
      ]
     },
     "execution_count": 270,
     "metadata": {},
     "output_type": "execute_result"
    }
   ],
   "source": [
    "# Grouping \"very strong\" and \"fairly strong\" supporters of any political candidate responses by age group\n",
    "supporter = df2[(df2.Q14 == 1) | (df2.Q14 == 2)].groupby(by=\"agegroups\").count()[\"Q14\"] \n",
    "supporter"
   ]
  },
  {
   "cell_type": "code",
   "execution_count": 273,
   "id": "9cb378a0",
   "metadata": {},
   "outputs": [
    {
     "data": {
      "text/plain": [
       "agegroups\n",
       "1    49\n",
       "2    80\n",
       "3    71\n",
       "4    81\n",
       "5    75\n",
       "6    65\n",
       "7    36\n",
       "Name: Q14, dtype: int64"
      ]
     },
     "execution_count": 273,
     "metadata": {},
     "output_type": "execute_result"
    }
   ],
   "source": [
    "# Grouping \"not very strong\" supporters of any political candidate responses by age group\n",
    "mild_supporter = df2[(df2.Q14 == 3)].groupby(by=\"agegroups\").count()[\"Q14\"] \n",
    "mild_supporter"
   ]
  },
  {
   "cell_type": "code",
   "execution_count": 274,
   "id": "b49984ee",
   "metadata": {},
   "outputs": [
    {
     "data": {
      "text/plain": [
       "agegroups\n",
       "1    84\n",
       "2    75\n",
       "3    84\n",
       "4    67\n",
       "5    48\n",
       "6    46\n",
       "7    29\n",
       "Name: Q14, dtype: int64"
      ]
     },
     "execution_count": 274,
     "metadata": {},
     "output_type": "execute_result"
    }
   ],
   "source": [
    "# Grouping \"not a supporter\" and \"don't know\" and \"refused\" responses by age group\n",
    "not_supporter = df2[(df2.Q14 == 4)| (df2.Q14 == 5)| (df2.Q14 == 6)].groupby(by=\"agegroups\").count()[\"Q14\"] \n",
    "not_supporter"
   ]
  },
  {
   "cell_type": "code",
   "execution_count": 324,
   "id": "9d9fe515",
   "metadata": {},
   "outputs": [],
   "source": [
    "# Creating data for Sense of Partisanship table\n",
    "data3 = {'Age Group': ['18-24', '25-34', '35-44', '45-54', '55-64', '65-74', '75+'],'Very/fairly strong' : [40, 38, 50, 63, 76, 77, 52], 'Not very strong' : [49, 80, 71, 81, 75, 65, 36], 'Not a supporter' : [84, 75, 84, 67, 48, 46,29], 'Total': [173, 193, 205, 211, 199, 188, 117]}"
   ]
  },
  {
   "cell_type": "code",
   "execution_count": 325,
   "id": "77e169b2",
   "metadata": {},
   "outputs": [
    {
     "data": {
      "text/html": [
       "<div>\n",
       "<style scoped>\n",
       "    .dataframe tbody tr th:only-of-type {\n",
       "        vertical-align: middle;\n",
       "    }\n",
       "\n",
       "    .dataframe tbody tr th {\n",
       "        vertical-align: top;\n",
       "    }\n",
       "\n",
       "    .dataframe thead th {\n",
       "        text-align: right;\n",
       "    }\n",
       "</style>\n",
       "<table border=\"1\" class=\"dataframe\">\n",
       "  <thead>\n",
       "    <tr style=\"text-align: right;\">\n",
       "      <th></th>\n",
       "      <th>Age Group</th>\n",
       "      <th>Very/fairly strong</th>\n",
       "      <th>Not very strong</th>\n",
       "      <th>Not a supporter</th>\n",
       "      <th>Total</th>\n",
       "    </tr>\n",
       "  </thead>\n",
       "  <tbody>\n",
       "    <tr>\n",
       "      <th>0</th>\n",
       "      <td>18-24</td>\n",
       "      <td>40</td>\n",
       "      <td>49</td>\n",
       "      <td>84</td>\n",
       "      <td>173</td>\n",
       "    </tr>\n",
       "    <tr>\n",
       "      <th>1</th>\n",
       "      <td>25-34</td>\n",
       "      <td>38</td>\n",
       "      <td>80</td>\n",
       "      <td>75</td>\n",
       "      <td>193</td>\n",
       "    </tr>\n",
       "    <tr>\n",
       "      <th>2</th>\n",
       "      <td>35-44</td>\n",
       "      <td>50</td>\n",
       "      <td>71</td>\n",
       "      <td>84</td>\n",
       "      <td>205</td>\n",
       "    </tr>\n",
       "    <tr>\n",
       "      <th>3</th>\n",
       "      <td>45-54</td>\n",
       "      <td>63</td>\n",
       "      <td>81</td>\n",
       "      <td>67</td>\n",
       "      <td>211</td>\n",
       "    </tr>\n",
       "    <tr>\n",
       "      <th>4</th>\n",
       "      <td>55-64</td>\n",
       "      <td>76</td>\n",
       "      <td>75</td>\n",
       "      <td>48</td>\n",
       "      <td>199</td>\n",
       "    </tr>\n",
       "    <tr>\n",
       "      <th>5</th>\n",
       "      <td>65-74</td>\n",
       "      <td>77</td>\n",
       "      <td>65</td>\n",
       "      <td>46</td>\n",
       "      <td>188</td>\n",
       "    </tr>\n",
       "    <tr>\n",
       "      <th>6</th>\n",
       "      <td>75+</td>\n",
       "      <td>52</td>\n",
       "      <td>36</td>\n",
       "      <td>29</td>\n",
       "      <td>117</td>\n",
       "    </tr>\n",
       "  </tbody>\n",
       "</table>\n",
       "</div>"
      ],
      "text/plain": [
       "  Age Group  Very/fairly strong  Not very strong  Not a supporter  Total\n",
       "0     18-24                  40               49               84    173\n",
       "1     25-34                  38               80               75    193\n",
       "2     35-44                  50               71               84    205\n",
       "3     45-54                  63               81               67    211\n",
       "4     55-64                  76               75               48    199\n",
       "5     65-74                  77               65               46    188\n",
       "6       75+                  52               36               29    117"
      ]
     },
     "execution_count": 325,
     "metadata": {},
     "output_type": "execute_result"
    }
   ],
   "source": [
    "# Creating dataframe for Sense of Partisanship table\n",
    "df_supporter = pd.DataFrame(data3)\n",
    "df_supporter"
   ]
  },
  {
   "cell_type": "code",
   "execution_count": 328,
   "id": "05d65b64",
   "metadata": {},
   "outputs": [
    {
     "data": {
      "text/html": [
       "<div>\n",
       "<style scoped>\n",
       "    .dataframe tbody tr th:only-of-type {\n",
       "        vertical-align: middle;\n",
       "    }\n",
       "\n",
       "    .dataframe tbody tr th {\n",
       "        vertical-align: top;\n",
       "    }\n",
       "\n",
       "    .dataframe thead th {\n",
       "        text-align: right;\n",
       "    }\n",
       "</style>\n",
       "<table border=\"1\" class=\"dataframe\">\n",
       "  <thead>\n",
       "    <tr style=\"text-align: right;\">\n",
       "      <th></th>\n",
       "      <th>Age Group</th>\n",
       "      <th>% Very/fairly strong</th>\n",
       "      <th>% Not very strong</th>\n",
       "      <th>% Not a supporter</th>\n",
       "    </tr>\n",
       "  </thead>\n",
       "  <tbody>\n",
       "    <tr>\n",
       "      <th>0</th>\n",
       "      <td>18-24</td>\n",
       "      <td>23.12</td>\n",
       "      <td>28.32</td>\n",
       "      <td>48.55</td>\n",
       "    </tr>\n",
       "    <tr>\n",
       "      <th>1</th>\n",
       "      <td>25-34</td>\n",
       "      <td>19.69</td>\n",
       "      <td>41.45</td>\n",
       "      <td>38.86</td>\n",
       "    </tr>\n",
       "    <tr>\n",
       "      <th>2</th>\n",
       "      <td>35-44</td>\n",
       "      <td>24.39</td>\n",
       "      <td>34.63</td>\n",
       "      <td>40.98</td>\n",
       "    </tr>\n",
       "    <tr>\n",
       "      <th>3</th>\n",
       "      <td>45-54</td>\n",
       "      <td>29.86</td>\n",
       "      <td>38.39</td>\n",
       "      <td>31.75</td>\n",
       "    </tr>\n",
       "    <tr>\n",
       "      <th>4</th>\n",
       "      <td>55-64</td>\n",
       "      <td>38.19</td>\n",
       "      <td>37.69</td>\n",
       "      <td>24.12</td>\n",
       "    </tr>\n",
       "    <tr>\n",
       "      <th>5</th>\n",
       "      <td>65-74</td>\n",
       "      <td>40.96</td>\n",
       "      <td>34.57</td>\n",
       "      <td>24.47</td>\n",
       "    </tr>\n",
       "    <tr>\n",
       "      <th>6</th>\n",
       "      <td>75+</td>\n",
       "      <td>44.44</td>\n",
       "      <td>30.77</td>\n",
       "      <td>24.79</td>\n",
       "    </tr>\n",
       "  </tbody>\n",
       "</table>\n",
       "</div>"
      ],
      "text/plain": [
       "  Age Group  % Very/fairly strong  % Not very strong  % Not a supporter\n",
       "0     18-24                 23.12              28.32              48.55\n",
       "1     25-34                 19.69              41.45              38.86\n",
       "2     35-44                 24.39              34.63              40.98\n",
       "3     45-54                 29.86              38.39              31.75\n",
       "4     55-64                 38.19              37.69              24.12\n",
       "5     65-74                 40.96              34.57              24.47\n",
       "6       75+                 44.44              30.77              24.79"
      ]
     },
     "execution_count": 328,
     "metadata": {},
     "output_type": "execute_result"
    }
   ],
   "source": [
    "# Turning Sense of Partisanship table values into percentages\n",
    "df_supporter_ptg = pd.DataFrame()\n",
    "df_supporter_ptg['Age Group'] = df_supporter['Age Group']\n",
    "df_supporter_ptg['% Very/fairly strong'] = (df_supporter['Very/fairly strong']/df['Total'])*100 \n",
    "df_supporter_ptg['% Not very strong'] = (df_supporter['Not very strong']/df['Total'])*100 \n",
    "df_supporter_ptg['% Not a supporter'] = (df_supporter['Not a supporter']/df['Total'])*100 \n",
    "df_supporter_ptg"
   ]
  },
  {
   "cell_type": "code",
   "execution_count": 178,
   "id": "b150d9c3",
   "metadata": {},
   "outputs": [],
   "source": [
    "# Binning \"very interested\" and \"fairly interested\" in politics responses into \"interested in politics\" \n",
    "interested = df2[ (df2.Q6 == 1 ) | (df2.Q6 == 2)][['Q6', 'Q3']]\n",
    "# Binning \"not very interested\" and \"not at all interested\" in politics responses into \"not interested in politics\" \n",
    "not_interested = df2[ (df2.Q6 == 3 ) | (df2.Q6 == 4)][['Q6', 'Q3']]"
   ]
  },
  {
   "cell_type": "code",
   "execution_count": 187,
   "id": "67d162e9",
   "metadata": {},
   "outputs": [
    {
     "data": {
      "text/html": [
       "<div>\n",
       "<style scoped>\n",
       "    .dataframe tbody tr th:only-of-type {\n",
       "        vertical-align: middle;\n",
       "    }\n",
       "\n",
       "    .dataframe tbody tr th {\n",
       "        vertical-align: top;\n",
       "    }\n",
       "\n",
       "    .dataframe thead th {\n",
       "        text-align: right;\n",
       "    }\n",
       "</style>\n",
       "<table border=\"1\" class=\"dataframe\">\n",
       "  <thead>\n",
       "    <tr style=\"text-align: right;\">\n",
       "      <th></th>\n",
       "      <th>Q6</th>\n",
       "    </tr>\n",
       "    <tr>\n",
       "      <th>Q3</th>\n",
       "      <th></th>\n",
       "    </tr>\n",
       "  </thead>\n",
       "  <tbody>\n",
       "    <tr>\n",
       "      <th>1</th>\n",
       "      <td>420</td>\n",
       "    </tr>\n",
       "    <tr>\n",
       "      <th>2</th>\n",
       "      <td>42</td>\n",
       "    </tr>\n",
       "    <tr>\n",
       "      <th>3</th>\n",
       "      <td>39</td>\n",
       "    </tr>\n",
       "    <tr>\n",
       "      <th>4</th>\n",
       "      <td>24</td>\n",
       "    </tr>\n",
       "    <tr>\n",
       "      <th>5</th>\n",
       "      <td>17</td>\n",
       "    </tr>\n",
       "    <tr>\n",
       "      <th>6</th>\n",
       "      <td>25</td>\n",
       "    </tr>\n",
       "    <tr>\n",
       "      <th>7</th>\n",
       "      <td>5</td>\n",
       "    </tr>\n",
       "    <tr>\n",
       "      <th>8</th>\n",
       "      <td>9</td>\n",
       "    </tr>\n",
       "    <tr>\n",
       "      <th>9</th>\n",
       "      <td>8</td>\n",
       "    </tr>\n",
       "    <tr>\n",
       "      <th>10</th>\n",
       "      <td>32</td>\n",
       "    </tr>\n",
       "    <tr>\n",
       "      <th>11</th>\n",
       "      <td>5</td>\n",
       "    </tr>\n",
       "  </tbody>\n",
       "</table>\n",
       "</div>"
      ],
      "text/plain": [
       "     Q6\n",
       "Q3     \n",
       "1   420\n",
       "2    42\n",
       "3    39\n",
       "4    24\n",
       "5    17\n",
       "6    25\n",
       "7     5\n",
       "8     9\n",
       "9     8\n",
       "10   32\n",
       "11    5"
      ]
     },
     "execution_count": 187,
     "metadata": {},
     "output_type": "execute_result"
    }
   ],
   "source": [
    "# Grouping \"interested in politics\" responses by age group\n",
    "interested.groupby(by = 'Q3').count()"
   ]
  },
  {
   "cell_type": "code",
   "execution_count": 217,
   "id": "2a628c95",
   "metadata": {},
   "outputs": [
    {
     "data": {
      "text/html": [
       "<div>\n",
       "<style scoped>\n",
       "    .dataframe tbody tr th:only-of-type {\n",
       "        vertical-align: middle;\n",
       "    }\n",
       "\n",
       "    .dataframe tbody tr th {\n",
       "        vertical-align: top;\n",
       "    }\n",
       "\n",
       "    .dataframe thead th {\n",
       "        text-align: right;\n",
       "    }\n",
       "</style>\n",
       "<table border=\"1\" class=\"dataframe\">\n",
       "  <thead>\n",
       "    <tr style=\"text-align: right;\">\n",
       "      <th></th>\n",
       "      <th>Q6</th>\n",
       "    </tr>\n",
       "    <tr>\n",
       "      <th>Q3</th>\n",
       "      <th></th>\n",
       "    </tr>\n",
       "  </thead>\n",
       "  <tbody>\n",
       "    <tr>\n",
       "      <th>1</th>\n",
       "      <td>211</td>\n",
       "    </tr>\n",
       "    <tr>\n",
       "      <th>2</th>\n",
       "      <td>30</td>\n",
       "    </tr>\n",
       "    <tr>\n",
       "      <th>3</th>\n",
       "      <td>54</td>\n",
       "    </tr>\n",
       "    <tr>\n",
       "      <th>4</th>\n",
       "      <td>43</td>\n",
       "    </tr>\n",
       "    <tr>\n",
       "      <th>5</th>\n",
       "      <td>39</td>\n",
       "    </tr>\n",
       "    <tr>\n",
       "      <th>6</th>\n",
       "      <td>73</td>\n",
       "    </tr>\n",
       "    <tr>\n",
       "      <th>7</th>\n",
       "      <td>21</td>\n",
       "    </tr>\n",
       "    <tr>\n",
       "      <th>8</th>\n",
       "      <td>22</td>\n",
       "    </tr>\n",
       "    <tr>\n",
       "      <th>9</th>\n",
       "      <td>30</td>\n",
       "    </tr>\n",
       "    <tr>\n",
       "      <th>10</th>\n",
       "      <td>118</td>\n",
       "    </tr>\n",
       "    <tr>\n",
       "      <th>11</th>\n",
       "      <td>17</td>\n",
       "    </tr>\n",
       "  </tbody>\n",
       "</table>\n",
       "</div>"
      ],
      "text/plain": [
       "     Q6\n",
       "Q3     \n",
       "1   211\n",
       "2    30\n",
       "3    54\n",
       "4    43\n",
       "5    39\n",
       "6    73\n",
       "7    21\n",
       "8    22\n",
       "9    30\n",
       "10  118\n",
       "11   17"
      ]
     },
     "execution_count": 217,
     "metadata": {},
     "output_type": "execute_result"
    }
   ],
   "source": [
    "# Grouping \"not interested in politics\" responses by age group\n",
    "not_interested.groupby(by = 'Q3').count()"
   ]
  },
  {
   "cell_type": "code",
   "execution_count": 379,
   "id": "eb6bc2ca",
   "metadata": {},
   "outputs": [
    {
     "data": {
      "text/html": [
       "<div>\n",
       "<style scoped>\n",
       "    .dataframe tbody tr th:only-of-type {\n",
       "        vertical-align: middle;\n",
       "    }\n",
       "\n",
       "    .dataframe tbody tr th {\n",
       "        vertical-align: top;\n",
       "    }\n",
       "\n",
       "    .dataframe thead th {\n",
       "        text-align: right;\n",
       "    }\n",
       "</style>\n",
       "<table border=\"1\" class=\"dataframe\">\n",
       "  <thead>\n",
       "    <tr style=\"text-align: right;\">\n",
       "      <th></th>\n",
       "      <th>Interested</th>\n",
       "      <th>Not Interested</th>\n",
       "    </tr>\n",
       "    <tr>\n",
       "      <th>Likely to vote</th>\n",
       "      <th></th>\n",
       "      <th></th>\n",
       "    </tr>\n",
       "  </thead>\n",
       "  <tbody>\n",
       "    <tr>\n",
       "      <th>Certain to vote (score 10)</th>\n",
       "      <td>420</td>\n",
       "      <td>211</td>\n",
       "    </tr>\n",
       "    <tr>\n",
       "      <th>Likely to vote (score 6-9)</th>\n",
       "      <td>122</td>\n",
       "      <td>166</td>\n",
       "    </tr>\n",
       "    <tr>\n",
       "      <th>Unlikely to vote (score 2-5)</th>\n",
       "      <td>47</td>\n",
       "      <td>146</td>\n",
       "    </tr>\n",
       "    <tr>\n",
       "      <th>Certain not to vote (score 1)</th>\n",
       "      <td>32</td>\n",
       "      <td>118</td>\n",
       "    </tr>\n",
       "    <tr>\n",
       "      <th>Don’t know / refused</th>\n",
       "      <td>5</td>\n",
       "      <td>17</td>\n",
       "    </tr>\n",
       "  </tbody>\n",
       "</table>\n",
       "</div>"
      ],
      "text/plain": [
       "                               Interested  Not Interested\n",
       "Likely to vote                                           \n",
       "Certain to vote (score 10)            420             211\n",
       "Likely to vote (score 6-9)            122             166\n",
       "Unlikely to vote (score 2-5)           47             146\n",
       "Certain not to vote (score 1)          32             118\n",
       "Don’t know / refused                    5              17"
      ]
     },
     "execution_count": 379,
     "metadata": {},
     "output_type": "execute_result"
    }
   ],
   "source": [
    "# Creating data and dataframe for Certainty to Vote table based on interest/disinterest in politics\n",
    "data2 = {'Likely to vote': ['Certain to vote (score 10)', 'Likely to vote (score 6-9)', 'Unlikely to vote (score 2-5)', 'Certain not to vote (score 1)', 'Don’t know / refused'], 'Interested': [420, 122, 47, 32, 5], 'Not Interested': [211, 166, 146, 118, 17]}\n",
    "df_vote1 = pd.DataFrame(data2).set_index('Likely to vote')\n",
    "df_vote1"
   ]
  },
  {
   "cell_type": "code",
   "execution_count": 341,
   "id": "b4eb3a14",
   "metadata": {
    "scrolled": true
   },
   "outputs": [
    {
     "data": {
      "text/plain": [
       "agegroups\n",
       "1    112\n",
       "2    119\n",
       "3    114\n",
       "4     94\n",
       "5     93\n",
       "6     82\n",
       "7     59\n",
       "Name: Q5axv, dtype: int64"
      ]
     },
     "execution_count": 341,
     "metadata": {},
     "output_type": "execute_result"
    }
   ],
   "source": [
    "# Grouping \"null\" responses to political activity participation by age group\n",
    "involvement = df2[(df2.Q5axv == 1)].groupby(by=\"agegroups\").count()['Q5axv']\n",
    "involvement"
   ]
  },
  {
   "cell_type": "code",
   "execution_count": 350,
   "id": "1d5a8fcd",
   "metadata": {
    "scrolled": true
   },
   "outputs": [
    {
     "data": {
      "text/plain": [
       "agegroups\n",
       "1    47\n",
       "2    58\n",
       "3    57\n",
       "4    25\n",
       "5    27\n",
       "6    23\n",
       "7    24\n",
       "Name: Q5bxv, dtype: int64"
      ]
     },
     "execution_count": 350,
     "metadata": {},
     "output_type": "execute_result"
    }
   ],
   "source": [
    "# Grouping \"null\" responses to potential political activity participation by age group\n",
    "potential_involvement = df2[(df2.Q5bxv == 1)].groupby(by=\"agegroups\").count()['Q5bxv']\n",
    "potential_involvement"
   ]
  },
  {
   "cell_type": "code",
   "execution_count": 375,
   "id": "436c5c07",
   "metadata": {},
   "outputs": [
    {
     "data": {
      "text/html": [
       "<div>\n",
       "<style scoped>\n",
       "    .dataframe tbody tr th:only-of-type {\n",
       "        vertical-align: middle;\n",
       "    }\n",
       "\n",
       "    .dataframe tbody tr th {\n",
       "        vertical-align: top;\n",
       "    }\n",
       "\n",
       "    .dataframe thead th {\n",
       "        text-align: right;\n",
       "    }\n",
       "</style>\n",
       "<table border=\"1\" class=\"dataframe\">\n",
       "  <thead>\n",
       "    <tr style=\"text-align: right;\">\n",
       "      <th></th>\n",
       "      <th>Age Group</th>\n",
       "      <th>No activities to influence decisions, laws or policies</th>\n",
       "      <th>No activities even if felt strongly about issue</th>\n",
       "      <th>Total</th>\n",
       "      <th>Any activities to influence decisions, laws or policies</th>\n",
       "      <th>Willing to do any activity if felt strongly about issue</th>\n",
       "    </tr>\n",
       "  </thead>\n",
       "  <tbody>\n",
       "    <tr>\n",
       "      <th>0</th>\n",
       "      <td>18-24</td>\n",
       "      <td>112</td>\n",
       "      <td>47</td>\n",
       "      <td>173</td>\n",
       "      <td>61</td>\n",
       "      <td>126</td>\n",
       "    </tr>\n",
       "    <tr>\n",
       "      <th>1</th>\n",
       "      <td>25-34</td>\n",
       "      <td>119</td>\n",
       "      <td>58</td>\n",
       "      <td>193</td>\n",
       "      <td>74</td>\n",
       "      <td>135</td>\n",
       "    </tr>\n",
       "    <tr>\n",
       "      <th>2</th>\n",
       "      <td>35-44</td>\n",
       "      <td>114</td>\n",
       "      <td>57</td>\n",
       "      <td>205</td>\n",
       "      <td>91</td>\n",
       "      <td>148</td>\n",
       "    </tr>\n",
       "    <tr>\n",
       "      <th>3</th>\n",
       "      <td>45-54</td>\n",
       "      <td>94</td>\n",
       "      <td>25</td>\n",
       "      <td>211</td>\n",
       "      <td>117</td>\n",
       "      <td>186</td>\n",
       "    </tr>\n",
       "    <tr>\n",
       "      <th>4</th>\n",
       "      <td>55-64</td>\n",
       "      <td>93</td>\n",
       "      <td>27</td>\n",
       "      <td>199</td>\n",
       "      <td>106</td>\n",
       "      <td>172</td>\n",
       "    </tr>\n",
       "    <tr>\n",
       "      <th>5</th>\n",
       "      <td>65-74</td>\n",
       "      <td>82</td>\n",
       "      <td>23</td>\n",
       "      <td>188</td>\n",
       "      <td>106</td>\n",
       "      <td>165</td>\n",
       "    </tr>\n",
       "    <tr>\n",
       "      <th>6</th>\n",
       "      <td>75+</td>\n",
       "      <td>59</td>\n",
       "      <td>24</td>\n",
       "      <td>117</td>\n",
       "      <td>58</td>\n",
       "      <td>93</td>\n",
       "    </tr>\n",
       "  </tbody>\n",
       "</table>\n",
       "</div>"
      ],
      "text/plain": [
       "  Age Group  No activities to influence decisions, laws or policies  \\\n",
       "0     18-24                                                112        \n",
       "1     25-34                                                119        \n",
       "2     35-44                                                114        \n",
       "3     45-54                                                 94        \n",
       "4     55-64                                                 93        \n",
       "5     65-74                                                 82        \n",
       "6       75+                                                 59        \n",
       "\n",
       "   No activities even if felt strongly about issue  Total  \\\n",
       "0                                               47    173   \n",
       "1                                               58    193   \n",
       "2                                               57    205   \n",
       "3                                               25    211   \n",
       "4                                               27    199   \n",
       "5                                               23    188   \n",
       "6                                               24    117   \n",
       "\n",
       "   Any activities to influence decisions, laws or policies  \\\n",
       "0                                                 61         \n",
       "1                                                 74         \n",
       "2                                                 91         \n",
       "3                                                117         \n",
       "4                                                106         \n",
       "5                                                106         \n",
       "6                                                 58         \n",
       "\n",
       "   Willing to do any activity if felt strongly about issue  \n",
       "0                                                126        \n",
       "1                                                135        \n",
       "2                                                148        \n",
       "3                                                186        \n",
       "4                                                172        \n",
       "5                                                165        \n",
       "6                                                 93        "
      ]
     },
     "execution_count": 375,
     "metadata": {},
     "output_type": "execute_result"
    }
   ],
   "source": [
    "# Creating dataframe for Actual and Potential Political Activity Participation table\n",
    "data4 = {'Age Group': ['18-24', '25-34', '35-44', '45-54', '55-64', '65-74', '75+'], 'No activities to influence decisions, laws or policies': [112, 119, 114, 94, 93, 82, 59], 'No activities even if felt strongly about issue':[47, 58, 57, 25, 27, 23, 24], 'Total': [173, 193, 205, 211, 199, 188, 117]}\n",
    "activities = pd.DataFrame(data4)\n",
    "activities['Any activities to influence decisions, laws or policies'] = (activities['Total'] - activities['No activities to influence decisions, laws or policies'])\n",
    "activities['Willing to do any activity if felt strongly about issue'] = (activities['Total'] - activities['No activities even if felt strongly about issue'])\n",
    "activities"
   ]
  },
  {
   "cell_type": "code",
   "execution_count": 353,
   "id": "79a861f5",
   "metadata": {},
   "outputs": [
    {
     "data": {
      "text/html": [
       "<div>\n",
       "<style scoped>\n",
       "    .dataframe tbody tr th:only-of-type {\n",
       "        vertical-align: middle;\n",
       "    }\n",
       "\n",
       "    .dataframe tbody tr th {\n",
       "        vertical-align: top;\n",
       "    }\n",
       "\n",
       "    .dataframe thead th {\n",
       "        text-align: right;\n",
       "    }\n",
       "</style>\n",
       "<table border=\"1\" class=\"dataframe\">\n",
       "  <thead>\n",
       "    <tr style=\"text-align: right;\">\n",
       "      <th></th>\n",
       "      <th>Age Group</th>\n",
       "      <th>% Any activities to influence decisions, laws or policies</th>\n",
       "      <th>% Willing to do any activity if felt strongly about an issue</th>\n",
       "    </tr>\n",
       "  </thead>\n",
       "  <tbody>\n",
       "    <tr>\n",
       "      <th>0</th>\n",
       "      <td>18-24</td>\n",
       "      <td>35.26</td>\n",
       "      <td>72.83</td>\n",
       "    </tr>\n",
       "    <tr>\n",
       "      <th>1</th>\n",
       "      <td>25-34</td>\n",
       "      <td>38.34</td>\n",
       "      <td>69.95</td>\n",
       "    </tr>\n",
       "    <tr>\n",
       "      <th>2</th>\n",
       "      <td>35-44</td>\n",
       "      <td>44.39</td>\n",
       "      <td>72.20</td>\n",
       "    </tr>\n",
       "    <tr>\n",
       "      <th>3</th>\n",
       "      <td>45-54</td>\n",
       "      <td>55.45</td>\n",
       "      <td>88.15</td>\n",
       "    </tr>\n",
       "    <tr>\n",
       "      <th>4</th>\n",
       "      <td>55-64</td>\n",
       "      <td>53.27</td>\n",
       "      <td>86.43</td>\n",
       "    </tr>\n",
       "    <tr>\n",
       "      <th>5</th>\n",
       "      <td>65-74</td>\n",
       "      <td>56.38</td>\n",
       "      <td>87.77</td>\n",
       "    </tr>\n",
       "    <tr>\n",
       "      <th>6</th>\n",
       "      <td>75+</td>\n",
       "      <td>49.57</td>\n",
       "      <td>79.49</td>\n",
       "    </tr>\n",
       "  </tbody>\n",
       "</table>\n",
       "</div>"
      ],
      "text/plain": [
       "  Age Group  % Any activities to influence decisions, laws or policies  \\\n",
       "0     18-24                                              35.26           \n",
       "1     25-34                                              38.34           \n",
       "2     35-44                                              44.39           \n",
       "3     45-54                                              55.45           \n",
       "4     55-64                                              53.27           \n",
       "5     65-74                                              56.38           \n",
       "6       75+                                              49.57           \n",
       "\n",
       "   % Willing to do any activity if felt strongly about an issue  \n",
       "0                                              72.83             \n",
       "1                                              69.95             \n",
       "2                                              72.20             \n",
       "3                                              88.15             \n",
       "4                                              86.43             \n",
       "5                                              87.77             \n",
       "6                                              79.49             "
      ]
     },
     "execution_count": 353,
     "metadata": {},
     "output_type": "execute_result"
    }
   ],
   "source": [
    "# Converting political activities table values into percentages\n",
    "activities_ptg = pd.DataFrame()\n",
    "activities_ptg['Age Group'] = activities['Age Group']\n",
    "activities_ptg['% Any activities to influence decisions, laws or policies'] = (activities['Any activities to influence decisions, laws or policies']/df['Total'])*100 \n",
    "activities_ptg['% Willing to do any activity if felt strongly about an issue'] = (activities['Willing to do any activity if felt strongly about issue']/df['Total'])*100\n",
    "activities_ptg"
   ]
  },
  {
   "cell_type": "markdown",
   "id": "6a1c87ec",
   "metadata": {},
   "source": [
    "# Situation\n",
    "\n",
    " - Interest in politics is low in youth. From the distribution in Figure 1, we can observe that political interest is skewed toward older citizens. Only 35.84% of respondents aged 18-24 and 34.72% of respondents aged 25-34 said they were at least fairly interested in politics.\n",
    " \n",
    " \n",
    " - Young people do not have sufficient political information. When asked _\"How much, if anything, do you feel you know about politics?\"_, 36.99% of youths aged 18-24 and 37.82% of those aged 25-34 answered that they knew a fair amount or a great deal. In contrast, 65.96% of respondents aged 65-74 and 62.39% of respondents aged 75+ answered the same. Figure 2 shows that perceived political knowledge is also skewed toward older age groups.\n",
    " \n",
    " \n",
    " - Most youths don't have a strong sense of partisanship. Feelings of not being connected with any particular political groups are cited by 48.55% of the 18-24 age group, in contrast with 25.79% for the 75+ age group. Figure 3 shows a low percentage of very/fairly strong supporters of political parties among the younger age groups compared to the older age groups."
   ]
  },
  {
   "cell_type": "markdown",
   "id": "282249b2",
   "metadata": {
    "slideshow": {
     "slide_type": "slide"
    }
   },
   "source": [
    "### Figure 1 : Interest in politics by age group"
   ]
  },
  {
   "cell_type": "code",
   "execution_count": 318,
   "id": "f2f94df7",
   "metadata": {
    "slideshow": {
     "slide_type": "subslide"
    }
   },
   "outputs": [
    {
     "data": {
      "image/png": "[encoded data removed]",
      "text/plain": [
       "<Figure size 432x432 with 1 Axes>"
      ]
     },
     "metadata": {},
     "output_type": "display_data"
    }
   ],
   "source": [
    "# Plot data\n",
    "sns.set_style('darkgrid')\n",
    "sns.set(rc = {'figure.figsize':(6,6)})\n",
    "sns.barplot(x = 'Age Group', y = '% Interest', data = df1)\n",
    "plt.show()"
   ]
  },
  {
   "cell_type": "markdown",
   "id": "4b33077b",
   "metadata": {
    "slideshow": {
     "slide_type": "slide"
    }
   },
   "source": [
    "### Figure 2: Perceived knowledge of politics by age group "
   ]
  },
  {
   "cell_type": "code",
   "execution_count": 319,
   "id": "1b73165e",
   "metadata": {},
   "outputs": [
    {
     "data": {
      "image/png": "[encoded data removed]",
      "text/plain": [
       "<Figure size 432x432 with 1 Axes>"
      ]
     },
     "metadata": {},
     "output_type": "display_data"
    }
   ],
   "source": [
    "# Plot data\n",
    "sns.barplot(x = 'Age Group', y = '% Knowledge', data = df1)\n",
    "plt.show()"
   ]
  },
  {
   "cell_type": "markdown",
   "id": "385c8aa9",
   "metadata": {},
   "source": [
    "### Figure 3: Sense of partisanship to a political party by age group"
   ]
  },
  {
   "cell_type": "code",
   "execution_count": 367,
   "id": "191ded85",
   "metadata": {
    "scrolled": false
   },
   "outputs": [
    {
     "data": {
      "image/png": "[encoded data removed]",
      "text/plain": [
       "<Figure size 1152x648 with 1 Axes>"
      ]
     },
     "metadata": {},
     "output_type": "display_data"
    }
   ],
   "source": [
    "# plot data in stack manner of bar type\n",
    "df_supporter_ptg.plot(x='Age Group', kind='barh', stacked=True, figsize = (16, 9));"
   ]
  },
  {
   "cell_type": "markdown",
   "id": "7f361f62",
   "metadata": {},
   "source": [
    "# Problem\n",
    "\n",
    "- Interest in politics is an important factor in political engagement. A lack of interest in politics generally leads to a lack of representation in the current political system across all respondents. While 67.1% of those who are at least fairly interested in politics are certain to vote in an immediate general election (Figure 4), only 32.1% of those who aren't very interested or aren't at all interested in politics say the same (Figure 5). \n",
    "\n",
    "\n",
    "- Similarly, disinterest in politics increases the percentage of those unlikely to vote and certain not to vote. In Figure 4, these groups are comprised of 7.5% and 5.1% of respondents respectively. In Figure 5, these numbers have increased to 22.2% and 17.9% respectively, resulting in a significant decrease in respondents likely to cast votes during elections.  \n",
    "\n",
    "\n",
    "- Disengagement in politics leads to little participation in activities that influence decisions, laws, and policies. When polled about the actions they have undertaken in the past 12 months, examples including signing a petition, voting in an election, and taking an active part in a campaign, only 35.26% of the 18-24 age group claimed to have participated in any of the listed activities (Figure 6). "
   ]
  },
  {
   "cell_type": "markdown",
   "id": "e1adc6fd",
   "metadata": {},
   "source": [
    "### Figure 4: Certainty to vote for those interested in politics"
   ]
  },
  {
   "cell_type": "code",
   "execution_count": 380,
   "id": "987e0ec0",
   "metadata": {
    "scrolled": false
   },
   "outputs": [
    {
     "data": {
      "image/png": "[encoded data removed]",
      "text/plain": [
       "<Figure size 432x432 with 1 Axes>"
      ]
     },
     "metadata": {},
     "output_type": "display_data"
    }
   ],
   "source": [
    "# Plot data\n",
    "pie1 = df_vote1.plot.pie(y ='Interested', autopct=\"%.1f%%\", radius=1.5, textprops = {\"fontsize\":15});\n",
    "pie1.get_legend().remove()"
   ]
  },
  {
   "cell_type": "markdown",
   "id": "acff9a50",
   "metadata": {},
   "source": [
    "### Figure 5: Certainty to vote for those not interested in politics"
   ]
  },
  {
   "cell_type": "code",
   "execution_count": 381,
   "id": "9419f9d9",
   "metadata": {},
   "outputs": [
    {
     "data": {
      "image/png": "[encoded data removed]",
      "text/plain": [
       "<Figure size 432x432 with 1 Axes>"
      ]
     },
     "metadata": {},
     "output_type": "display_data"
    }
   ],
   "source": [
    "# Plot data\n",
    "pie1 = df_vote1.plot.pie(y ='Not Interested', autopct=\"%.1f%%\", radius=1.5, textprops = {\"fontsize\":15});\n",
    "pie1.get_legend().remove()"
   ]
  },
  {
   "cell_type": "markdown",
   "id": "ca970f68",
   "metadata": {},
   "source": [
    "### Figure 6: Political activities: actual and potential by age group"
   ]
  },
  {
   "cell_type": "code",
   "execution_count": 365,
   "id": "76866f89",
   "metadata": {
    "scrolled": false
   },
   "outputs": [
    {
     "data": {
      "image/png": "[encoded data removed]",
      "text/plain": [
       "<Figure size 1008x576 with 1 Axes>"
      ]
     },
     "metadata": {},
     "output_type": "display_data"
    }
   ],
   "source": [
    "# Plot data \n",
    "activities_ptg.plot(x='Age Group', kind='barh',  figsize = (14, 8));"
   ]
  },
  {
   "cell_type": "markdown",
   "id": "4ed83d65",
   "metadata": {},
   "source": [
    "# Solution\n",
    "\n",
    "- To properly engage young people, more information and education must be tailored to their interests and unique circumstances. Figure 6 shows that 72.83% of the 18-24 years age group is willing to participate in political activities if they felt strongly enough about the issues. \n",
    "\n",
    "\n",
    "- Increase youth involvement in the current political system through recruitment. Injecting younger employees into the personnel of politics will lead to higher participation rates and increased relatability with younger age groups within the population. \n",
    "\n",
    "\n",
    "- Increase presence of political issues in online spaces that reach a younger audience. Content creation, increased media exposure, and the creation of communication channels between youths and political leaders should be established to increase both knowledge of and interest in political issues, with the aim of building partisanship among the younger generation. "
   ]
  },
  {
   "cell_type": "markdown",
   "id": "b8ac2c41",
   "metadata": {},
   "source": [
    "# Next Steps\n",
    "\n",
    "- Create a committee of recruiters to promote jobs in politics to young adults and hire them for roles in political positions such as young leaders and electoral candidates. \n",
    "\n",
    "\n",
    "- Open communication channels on social media websites such as Twitter and Facebook where members of political parties and youths can interact in a quick and easy manner.\n",
    "\n",
    "\n",
    "- On these channels, create and promote specifically tailored educational and informative content for a younger audience. Encourage participation and discourse in varied topics relevant to the younger generation's interests. \n"
   ]
  }
 ],
 "metadata": {
  "kernelspec": {
   "display_name": "Python 3",
   "language": "python",
   "name": "python3"
  },
  "language_info": {
   "codemirror_mode": {
    "name": "ipython",
    "version": 3
   },
   "file_extension": ".py",
   "mimetype": "text/x-python",
   "name": "python",
   "nbconvert_exporter": "python",
   "pygments_lexer": "ipython3",
   "version": "3.8.8"
  }
 },
 "nbformat": 4,
 "nbformat_minor": 5
}
